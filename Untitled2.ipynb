{
 "cells": [
  {
   "cell_type": "code",
   "execution_count": 1,
   "metadata": {
    "ExecuteTime": {
     "end_time": "2020-03-04T16:12:23.876925Z",
     "start_time": "2020-03-04T16:12:18.889347Z"
    }
   },
   "outputs": [
    {
     "name": "stderr",
     "output_type": "stream",
     "text": [
      "/opt/anaconda3/lib/python3.7/site-packages/pyfolio/pos.py:27: UserWarning:\n",
      "\n",
      "Module \"zipline.assets\" not found; mutltipliers will not be applied to position notionals.\n",
      "\n"
     ]
    }
   ],
   "source": [
    "import dash\n",
    "import dash_core_components as dcc\n",
    "import dash_html_components as html\n",
    "from dash.dependencies import Input, Output, State\n",
    "from datetime import datetime\n",
    "import pandas as pd\n",
    "import numpy as np\n",
    "from plotly.subplots import make_subplots\n",
    "import pymongo\n",
    "import dns\n",
    "import json\n",
    "import dash_bootstrap_components as dbc\n",
    "from yahoofinancials import YahooFinancials\n",
    "import quandl\n",
    "import os   \n",
    "import pyfolio as pf    \n",
    "import chart_studio.plotly as py    \n",
    "import plotly.graph_objs as go    \n",
    "import plotly    \n",
    "import plotly.io as pio    \n",
    "from plotly import tools\n",
    "import backtrader as bt\n",
    "from ib_insync import *\n",
    "import datetime\n",
    "import base64\n",
    "import io\n",
    "from PIL import Image\n",
    "import urllib\n",
    "import requests\n",
    "import matplotlib.pyplot as plt\n",
    "import random\n",
    "from wordcloud import WordCloud, STOPWORDS, ImageColorGenerator\n",
    "from os import path\n",
    "\n",
    "util.startLoop()\n"
   ]
  },
  {
   "cell_type": "code",
   "execution_count": 2,
   "metadata": {
    "ExecuteTime": {
     "end_time": "2020-03-04T16:12:23.919602Z",
     "start_time": "2020-03-04T16:12:23.881389Z"
    }
   },
   "outputs": [
    {
     "data": {
      "text/plain": [
       "['1. No Poverty',\n",
       " '2. Zero Hunger',\n",
       " '3. Good Health and Well-being',\n",
       " '4. Quality Education',\n",
       " '5. Gender Equality',\n",
       " '6. Clean Water and Sanitaion',\n",
       " '7. Affordable and Clean Energy',\n",
       " '8. Decent Work and Economic Growth',\n",
       " '9. Industry, Innovation and Infrastructure',\n",
       " '10. Reduced Inequalities',\n",
       " '11. Sustainable Cities and Communities',\n",
       " '12. Responsible Consumption and Production',\n",
       " '13. Climate Action',\n",
       " '14. Life below Water',\n",
       " '15. Life on Land',\n",
       " '16. Peace, Justice and Strong Institutions',\n",
       " '17. Partnerships for the Goals']"
      ]
     },
     "execution_count": 2,
     "metadata": {},
     "output_type": "execute_result"
    }
   ],
   "source": [
    "df_theme = pd.read_csv('UNGC_SDG_antonyms - March12.csv', encoding = 'utf-8')\n",
    "feature = df_theme.columns.values.tolist()\n",
    "feature.remove('Unnamed: 0')\n",
    "df_theme = df_theme.dropna()\n",
    "feature"
   ]
  },
  {
   "cell_type": "code",
   "execution_count": 3,
   "metadata": {
    "ExecuteTime": {
     "end_time": "2020-03-04T16:12:23.933160Z",
     "start_time": "2020-03-04T16:12:23.923161Z"
    }
   },
   "outputs": [],
   "source": [
    "# set the color of the wordcloud gray-ish to make the entire dash harmonic\n",
    "def grey_color_func(word, font_size, position, orientation, random_state=None,\n",
    "                    **kwargs):\n",
    "    return \"hsl(0, 0%%, %d%%)\" % random.randint(60, 100)"
   ]
  },
  {
   "cell_type": "code",
   "execution_count": 4,
   "metadata": {
    "ExecuteTime": {
     "end_time": "2020-03-04T16:12:23.953692Z",
     "start_time": "2020-03-04T16:12:23.937538Z"
    }
   },
   "outputs": [],
   "source": [
    "def encode_image(image_file):\n",
    "    encoded = base64.b64encode(open(image_file, 'rb').read())\n",
    "    return 'data:image/png;base64,{}'.format(encoded.decode())\n"
   ]
  },
  {
   "cell_type": "code",
   "execution_count": 5,
   "metadata": {
    "ExecuteTime": {
     "end_time": "2020-03-04T16:12:23.981007Z",
     "start_time": "2020-03-04T16:12:23.958188Z"
    }
   },
   "outputs": [],
   "source": [
    "import os\n",
    "import re\n",
    "filePath = r\"SDG outliers_specific (no rank)_results\"\n",
    "files = os.listdir(filePath)\n",
    "files.remove('.DS_Store')\n",
    "SDG_info = []\n",
    "update_SDG_info = []\n",
    "company = []\n",
    "date = []\n",
    "SDG = []\n",
    "for i in files:\n",
    "    path = 'SDG outliers_specific (no rank)_results/' + i\n",
    "    inf = os.listdir(path)\n",
    "    SDG_info.extend(inf)\n",
    "for i  in SDG_info:\n",
    "    if 'pdf' in i:\n",
    "        update_SDG_info.append(i)\n",
    "pattern = r'^(.*)\\s+\\((\\d+.*)\\).*(\\d{4}-\\d{2}-\\d{2})\\.\\w+'\n",
    "for string in update_SDG_info:\n",
    "    info = re.findall(pattern, string)\n",
    "    company.append(info[0][0])\n",
    "    date.append(info[0][2])\n",
    "    SDG.append(info[0][1])\n",
    "#     /Users/HarryWoo/UNSDG_dash/SDG outliers_specific (no rank)_results/SDG1 result(unranked)"
   ]
  },
  {
   "cell_type": "code",
   "execution_count": 6,
   "metadata": {
    "ExecuteTime": {
     "end_time": "2020-03-04T16:12:23.995916Z",
     "start_time": "2020-03-04T16:12:23.984480Z"
    }
   },
   "outputs": [],
   "source": [
    "import pandas as pd\n",
    "out_result = pd.DataFrame({'SDG_number':SDG,\n",
    "                         'Company_name':company,\n",
    "                         'Date':date})"
   ]
  },
  {
   "cell_type": "code",
   "execution_count": 7,
   "metadata": {
    "ExecuteTime": {
     "end_time": "2020-03-04T16:12:24.013242Z",
     "start_time": "2020-03-04T16:12:24.004281Z"
    }
   },
   "outputs": [],
   "source": [
    "date = sorted(set(date))\n",
    "company = sorted(set(company))"
   ]
  },
  {
   "cell_type": "code",
   "execution_count": null,
   "metadata": {
    "ExecuteTime": {
     "start_time": "2020-03-04T16:13:28.208Z"
    }
   },
   "outputs": [
    {
     "name": "stdout",
     "output_type": "stream",
     "text": [
      " * Serving Flask app \"__main__\" (lazy loading)\n",
      " * Environment: production\n",
      "   WARNING: This is a development server. Do not use it in a production deployment.\n",
      "   Use a production WSGI server instead.\n",
      " * Debug mode: off\n"
     ]
    },
    {
     "name": "stderr",
     "output_type": "stream",
     "text": [
      " * Running on http://127.0.0.1:8050/ (Press CTRL+C to quit)\n",
      "127.0.0.1 - - [04/Mar/2020 11:13:56] \"\u001b[37mGET / HTTP/1.1\u001b[0m\" 200 -\n",
      "127.0.0.1 - - [04/Mar/2020 11:13:56] \"\u001b[37mGET /_dash-dependencies HTTP/1.1\u001b[0m\" 200 -\n",
      "127.0.0.1 - - [04/Mar/2020 11:13:56] \"\u001b[37mGET /_dash-layout HTTP/1.1\u001b[0m\" 200 -\n"
     ]
    },
    {
     "name": "stdout",
     "output_type": "stream",
     "text": [
      "Exception on /_dash-update-component [POST]\n",
      "Traceback (most recent call last):\n",
      "  File \"/opt/anaconda3/lib/python3.7/site-packages/flask/app.py\", line 2446, in wsgi_app\n",
      "    response = self.full_dispatch_request()\n",
      "  File \"/opt/anaconda3/lib/python3.7/site-packages/flask/app.py\", line 1951, in full_dispatch_request\n",
      "    rv = self.handle_user_exception(e)\n",
      "  File \"/opt/anaconda3/lib/python3.7/site-packages/flask/app.py\", line 1820, in handle_user_exception\n",
      "    reraise(exc_type, exc_value, tb)\n",
      "  File \"/opt/anaconda3/lib/python3.7/site-packages/flask/_compat.py\", line 39, in reraise\n",
      "    raise value\n",
      "  File \"/opt/anaconda3/lib/python3.7/site-packages/flask/app.py\", line 1949, in full_dispatch_request\n",
      "    rv = self.dispatch_request()\n",
      "  File \"/opt/anaconda3/lib/python3.7/site-packages/flask/app.py\", line 1935, in dispatch_request\n",
      "    return self.view_functions[rule.endpoint](**req.view_args)\n",
      "  File \"/opt/anaconda3/lib/python3.7/site-packages/dash/dash.py\", line 1461, in dispatch\n",
      "    response.set_data(self.callback_map[output][\"callback\"](*args))\n",
      "  File \"/opt/anaconda3/lib/python3.7/site-packages/dash/dash.py\", line 1341, in add_context\n",
      "    output_value = func(*args, **kwargs)  # %% callback invoked %%\n",
      "  File \"<ipython-input-10-800cf9518150>\", line 86, in update_graph\n",
      "    return encode_image(image_dir+f'{SDG_number}_{company_name}_{date}.png')\n",
      "  File \"<ipython-input-4-21b12b9f44a2>\", line 2, in encode_image\n",
      "    encoded = base64.b64encode(open(image_file, 'rb').read())\n",
      "FileNotFoundError: [Errno 2] No such file or directory: 'images/None_None_None.png'\n",
      "Exception on /_dash-update-component [POST]\n",
      "Traceback (most recent call last):\n",
      "  File \"/opt/anaconda3/lib/python3.7/site-packages/flask/app.py\", line 2446, in wsgi_app\n",
      "    response = self.full_dispatch_request()\n",
      "  File \"/opt/anaconda3/lib/python3.7/site-packages/flask/app.py\", line 1951, in full_dispatch_request\n",
      "    rv = self.handle_user_exception(e)\n",
      "  File \"/opt/anaconda3/lib/python3.7/site-packages/flask/app.py\", line 1820, in handle_user_exception\n",
      "    reraise(exc_type, exc_value, tb)\n",
      "  File \"/opt/anaconda3/lib/python3.7/site-packages/flask/_compat.py\", line 39, in reraise\n",
      "    raise value\n",
      "  File \"/opt/anaconda3/lib/python3.7/site-packages/flask/app.py\", line 1949, in full_dispatch_request\n",
      "    rv = self.dispatch_request()\n",
      "  File \"/opt/anaconda3/lib/python3.7/site-packages/flask/app.py\", line 1935, in dispatch_request\n",
      "    return self.view_functions[rule.endpoint](**req.view_args)\n",
      "  File \"/opt/anaconda3/lib/python3.7/site-packages/dash/dash.py\", line 1461, in dispatch\n",
      "    response.set_data(self.callback_map[output][\"callback\"](*args))\n",
      "  File \"/opt/anaconda3/lib/python3.7/site-packages/dash/dash.py\", line 1341, in add_context\n",
      "    output_value = func(*args, **kwargs)  # %% callback invoked %%\n",
      "  File \"<ipython-input-10-800cf9518150>\", line 86, in update_graph\n",
      "    return encode_image(image_dir+f'{SDG_number}_{company_name}_{date}.png')\n",
      "  File \"<ipython-input-4-21b12b9f44a2>\", line 2, in encode_image\n",
      "    encoded = base64.b64encode(open(image_file, 'rb').read())\n",
      "FileNotFoundError: [Errno 2] No such file or directory: 'images/None_None_None.png'\n"
     ]
    },
    {
     "name": "stderr",
     "output_type": "stream",
     "text": [
      "127.0.0.1 - - [04/Mar/2020 11:13:57] \"\u001b[1m\u001b[35mPOST /_dash-update-component HTTP/1.1\u001b[0m\" 500 -\n"
     ]
    },
    {
     "name": "stdout",
     "output_type": "stream",
     "text": [
      "Exception on /_dash-update-component [POST]\n",
      "Traceback (most recent call last):\n",
      "  File \"/opt/anaconda3/lib/python3.7/site-packages/flask/app.py\", line 2446, in wsgi_app\n",
      "    response = self.full_dispatch_request()\n",
      "  File \"/opt/anaconda3/lib/python3.7/site-packages/flask/app.py\", line 1951, in full_dispatch_request\n",
      "    rv = self.handle_user_exception(e)\n",
      "  File \"/opt/anaconda3/lib/python3.7/site-packages/flask/app.py\", line 1820, in handle_user_exception\n",
      "    reraise(exc_type, exc_value, tb)\n",
      "  File \"/opt/anaconda3/lib/python3.7/site-packages/flask/_compat.py\", line 39, in reraise\n",
      "    raise value\n",
      "  File \"/opt/anaconda3/lib/python3.7/site-packages/flask/app.py\", line 1949, in full_dispatch_request\n",
      "    rv = self.dispatch_request()\n",
      "  File \"/opt/anaconda3/lib/python3.7/site-packages/flask/app.py\", line 1935, in dispatch_request\n",
      "    return self.view_functions[rule.endpoint](**req.view_args)\n",
      "  File \"/opt/anaconda3/lib/python3.7/site-packages/dash/dash.py\", line 1461, in dispatch\n",
      "    response.set_data(self.callback_map[output][\"callback\"](*args))\n",
      "  File \"/opt/anaconda3/lib/python3.7/site-packages/dash/dash.py\", line 1341, in add_context\n",
      "    output_value = func(*args, **kwargs)  # %% callback invoked %%\n",
      "  File \"<ipython-input-10-800cf9518150>\", line 86, in update_graph\n",
      "    return encode_image(image_dir+f'{SDG_number}_{company_name}_{date}.png')\n",
      "  File \"<ipython-input-4-21b12b9f44a2>\", line 2, in encode_image\n",
      "    encoded = base64.b64encode(open(image_file, 'rb').read())\n",
      "FileNotFoundError: [Errno 2] No such file or directory: 'images/2. Zero Hunger_None_None.png'\n",
      "Exception on /_dash-update-component [POST]\n",
      "Traceback (most recent call last):\n",
      "  File \"/opt/anaconda3/lib/python3.7/site-packages/flask/app.py\", line 2446, in wsgi_app\n",
      "    response = self.full_dispatch_request()\n",
      "  File \"/opt/anaconda3/lib/python3.7/site-packages/flask/app.py\", line 1951, in full_dispatch_request\n",
      "    rv = self.handle_user_exception(e)\n",
      "  File \"/opt/anaconda3/lib/python3.7/site-packages/flask/app.py\", line 1820, in handle_user_exception\n",
      "    reraise(exc_type, exc_value, tb)\n",
      "  File \"/opt/anaconda3/lib/python3.7/site-packages/flask/_compat.py\", line 39, in reraise\n",
      "    raise value\n",
      "  File \"/opt/anaconda3/lib/python3.7/site-packages/flask/app.py\", line 1949, in full_dispatch_request\n",
      "    rv = self.dispatch_request()\n",
      "  File \"/opt/anaconda3/lib/python3.7/site-packages/flask/app.py\", line 1935, in dispatch_request\n",
      "    return self.view_functions[rule.endpoint](**req.view_args)\n",
      "  File \"/opt/anaconda3/lib/python3.7/site-packages/dash/dash.py\", line 1461, in dispatch\n",
      "    response.set_data(self.callback_map[output][\"callback\"](*args))\n",
      "  File \"/opt/anaconda3/lib/python3.7/site-packages/dash/dash.py\", line 1341, in add_context\n",
      "    output_value = func(*args, **kwargs)  # %% callback invoked %%\n",
      "  File \"<ipython-input-10-800cf9518150>\", line 86, in update_graph\n",
      "    return encode_image(image_dir+f'{SDG_number}_{company_name}_{date}.png')\n",
      "  File \"<ipython-input-4-21b12b9f44a2>\", line 2, in encode_image\n",
      "    encoded = base64.b64encode(open(image_file, 'rb').read())\n",
      "FileNotFoundError: [Errno 2] No such file or directory: 'images/2. Zero Hunger_None_None.png'\n"
     ]
    },
    {
     "name": "stderr",
     "output_type": "stream",
     "text": [
      "127.0.0.1 - - [04/Mar/2020 11:14:02] \"\u001b[1m\u001b[35mPOST /_dash-update-component HTTP/1.1\u001b[0m\" 500 -\n"
     ]
    },
    {
     "name": "stdout",
     "output_type": "stream",
     "text": [
      "Exception on /_dash-update-component [POST]\n",
      "Traceback (most recent call last):\n",
      "  File \"/opt/anaconda3/lib/python3.7/site-packages/flask/app.py\", line 2446, in wsgi_app\n",
      "    response = self.full_dispatch_request()\n",
      "  File \"/opt/anaconda3/lib/python3.7/site-packages/flask/app.py\", line 1951, in full_dispatch_request\n",
      "    rv = self.handle_user_exception(e)\n",
      "  File \"/opt/anaconda3/lib/python3.7/site-packages/flask/app.py\", line 1820, in handle_user_exception\n",
      "    reraise(exc_type, exc_value, tb)\n",
      "  File \"/opt/anaconda3/lib/python3.7/site-packages/flask/_compat.py\", line 39, in reraise\n",
      "    raise value\n",
      "  File \"/opt/anaconda3/lib/python3.7/site-packages/flask/app.py\", line 1949, in full_dispatch_request\n",
      "    rv = self.dispatch_request()\n",
      "  File \"/opt/anaconda3/lib/python3.7/site-packages/flask/app.py\", line 1935, in dispatch_request\n",
      "    return self.view_functions[rule.endpoint](**req.view_args)\n",
      "  File \"/opt/anaconda3/lib/python3.7/site-packages/dash/dash.py\", line 1461, in dispatch\n",
      "    response.set_data(self.callback_map[output][\"callback\"](*args))\n",
      "  File \"/opt/anaconda3/lib/python3.7/site-packages/dash/dash.py\", line 1341, in add_context\n",
      "    output_value = func(*args, **kwargs)  # %% callback invoked %%\n",
      "  File \"<ipython-input-10-800cf9518150>\", line 86, in update_graph\n",
      "    return encode_image(image_dir+f'{SDG_number}_{company_name}_{date}.png')\n",
      "  File \"<ipython-input-4-21b12b9f44a2>\", line 2, in encode_image\n",
      "    encoded = base64.b64encode(open(image_file, 'rb').read())\n",
      "FileNotFoundError: [Errno 2] No such file or directory: 'images/2. Zero Hunger_chevron corp_None.png'\n",
      "Exception on /_dash-update-component [POST]\n",
      "Traceback (most recent call last):\n",
      "  File \"/opt/anaconda3/lib/python3.7/site-packages/flask/app.py\", line 2446, in wsgi_app\n",
      "    response = self.full_dispatch_request()\n",
      "  File \"/opt/anaconda3/lib/python3.7/site-packages/flask/app.py\", line 1951, in full_dispatch_request\n",
      "    rv = self.handle_user_exception(e)\n",
      "  File \"/opt/anaconda3/lib/python3.7/site-packages/flask/app.py\", line 1820, in handle_user_exception\n",
      "    reraise(exc_type, exc_value, tb)\n",
      "  File \"/opt/anaconda3/lib/python3.7/site-packages/flask/_compat.py\", line 39, in reraise\n",
      "    raise value\n",
      "  File \"/opt/anaconda3/lib/python3.7/site-packages/flask/app.py\", line 1949, in full_dispatch_request\n",
      "    rv = self.dispatch_request()\n",
      "  File \"/opt/anaconda3/lib/python3.7/site-packages/flask/app.py\", line 1935, in dispatch_request\n",
      "    return self.view_functions[rule.endpoint](**req.view_args)\n",
      "  File \"/opt/anaconda3/lib/python3.7/site-packages/dash/dash.py\", line 1461, in dispatch\n",
      "    response.set_data(self.callback_map[output][\"callback\"](*args))\n",
      "  File \"/opt/anaconda3/lib/python3.7/site-packages/dash/dash.py\", line 1341, in add_context\n",
      "    output_value = func(*args, **kwargs)  # %% callback invoked %%\n",
      "  File \"<ipython-input-10-800cf9518150>\", line 86, in update_graph\n",
      "    return encode_image(image_dir+f'{SDG_number}_{company_name}_{date}.png')\n",
      "  File \"<ipython-input-4-21b12b9f44a2>\", line 2, in encode_image\n",
      "    encoded = base64.b64encode(open(image_file, 'rb').read())\n",
      "FileNotFoundError: [Errno 2] No such file or directory: 'images/2. Zero Hunger_chevron corp_None.png'\n"
     ]
    },
    {
     "name": "stderr",
     "output_type": "stream",
     "text": [
      "127.0.0.1 - - [04/Mar/2020 11:14:07] \"\u001b[1m\u001b[35mPOST /_dash-update-component HTTP/1.1\u001b[0m\" 500 -\n",
      "127.0.0.1 - - [04/Mar/2020 11:14:11] \"\u001b[37mPOST /_dash-update-component HTTP/1.1\u001b[0m\" 200 -\n"
     ]
    }
   ],
   "source": [
    "# set color for different parts\n",
    "colors = {'background': '#111111', 'text': '#7FDBFF','button':'#FFFF00'}\n",
    "\n",
    "app = dash.Dash()\n",
    "#app.css.append_css({'remove'})\n",
    "app.layout = html.Div(\n",
    "    children = [\n",
    "        html.H1(children = 'Wordcloud of SDG Keywords', style = {'color' : colors['text'],\n",
    "                                                                 'width' : '50%', \n",
    "                                                                 'display': 'inline-block',\n",
    "                                                                 'margin-top': 10,\n",
    "                                                                 'margin-left': 10}),\n",
    "        html.Img(\n",
    "                src = 'https://images.squarespace-cdn.com/content/5c036cd54eddec1d4ff1c1eb/1557908564936-YSBRPFCGYV2CE43OHI7F/GlobalAI_logo.jpg?content-type=image%2Fpng',\n",
    "                style = {\n",
    "                    'height': '4.4%',\n",
    "                    'width': '11%',\n",
    "                    'float': 'right',\n",
    "                    'margin-top': 20,\n",
    "                    'margin-right': 20,\n",
    "                    'display': 'inline-block' \n",
    "                }),\n",
    "        html.Br(),\n",
    "        html.Div([\n",
    "            html.H6('Select an SDG to visualize its keywords', \n",
    "                    style = {'color': '#9999FF'}),\n",
    "            # dropdown\n",
    "            dcc.Dropdown(\n",
    "                id = 'SDGnumber',\n",
    "                options = [{'label':i, 'value':i} for i in feature],\n",
    "                # value = '1. No Poverty' # next row sets the initial value showed in the dropdown box null\n",
    "                searchable = False,\n",
    "                # set the initial text\n",
    "                placeholder = \"Please select a feature\"\n",
    "                # set height\n",
    "                #optionHeight = 40\n",
    "            )\n",
    "        ], style = {\"width\": \"30%\",'margin-left': 10,'display': 'inline-block'}),\n",
    "         html.Div([\n",
    "            html.H6('Also select a company name please', \n",
    "                    style = {'color': '#9999FF'}),\n",
    "            # dropdown\n",
    "            dcc.Dropdown(\n",
    "                id = 'company_name',\n",
    "                options = [{'label':i, 'value':i} for i in company],\n",
    "                # value = '1. No Poverty' # next row sets the initial value showed in the dropdown box null\n",
    "                searchable = False,\n",
    "                # set the initial text\n",
    "                placeholder = \"Please select a feature\"\n",
    "                # set height\n",
    "                #optionHeight = 40\n",
    "            )\n",
    "        ], style = {\"width\": \"30%\",'margin-left': 10,'display': 'inline-block'}),\n",
    "        html.Div([\n",
    "            html.H6('Also select a date please', \n",
    "                    style = {'color': '#9999FF'}),\n",
    "            # dropdown\n",
    "            dcc.Dropdown(\n",
    "                id = 'date',\n",
    "                options = [{'label':i, 'value':i} for i in date],\n",
    "                # value = '1. No Poverty' # next row sets the initial value showed in the dropdown box null\n",
    "                searchable = False,\n",
    "                # set the initial text\n",
    "                placeholder = \"Please select a feature\"\n",
    "                # set height\n",
    "                #optionHeight = 40\n",
    "            )\n",
    "        ], style = {\"width\": \"30%\",'margin-left': 10,'display': 'inline-block'}),\n",
    "        \n",
    "        html.Br(),\n",
    "        html.Br(),\n",
    "        html.Br(),\n",
    "        # graph\n",
    "        html.H6('Visualized Results:', style = {'color' : colors['text'],\n",
    "                                                'margin-left': 10,\n",
    "                                                'width' : '30%'}),\n",
    "        html.Div(html.Img(id = 'Graph', style = {}), style = {'margin-left': 300,'margin-right': 10})]\n",
    "                 , style = {'backgroundColor': colors['background'], 'height':'100vh'})\n",
    "\n",
    "image_dir = 'images/'\n",
    "\n",
    "@app.callback(\n",
    "    Output('Graph', 'src'),\n",
    "    [Input('SDGnumber', 'value'), Input('company_name','value'), Input('date','value')])\n",
    "def update_graph(SDG_number,company_name,date):\n",
    "    return encode_image(image_dir+f'{SDG_number}_{company_name}_{date}.png')\n",
    "if __name__ == '__main__':\n",
    "    app.run_server()"
   ]
  },
  {
   "cell_type": "code",
   "execution_count": null,
   "metadata": {},
   "outputs": [],
   "source": []
  }
 ],
 "metadata": {
  "kernelspec": {
   "display_name": "Python 3",
   "language": "python",
   "name": "python3"
  },
  "language_info": {
   "codemirror_mode": {
    "name": "ipython",
    "version": 3
   },
   "file_extension": ".py",
   "mimetype": "text/x-python",
   "name": "python",
   "nbconvert_exporter": "python",
   "pygments_lexer": "ipython3",
   "version": "3.7.4"
  },
  "toc": {
   "base_numbering": 1,
   "nav_menu": {},
   "number_sections": true,
   "sideBar": true,
   "skip_h1_title": false,
   "title_cell": "Table of Contents",
   "title_sidebar": "Contents",
   "toc_cell": false,
   "toc_position": {},
   "toc_section_display": true,
   "toc_window_display": false
  }
 },
 "nbformat": 4,
 "nbformat_minor": 2
}
